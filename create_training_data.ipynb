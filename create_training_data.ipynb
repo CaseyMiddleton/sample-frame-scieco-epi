{
 "cells": [
  {
   "cell_type": "code",
   "execution_count": 1,
   "metadata": {},
   "outputs": [],
   "source": [
    "import numpy as np\n",
    "import pandas as pd\n",
    "import csv\n",
    "import json\n",
    "import re\n",
    "import random"
   ]
  },
  {
   "cell_type": "code",
   "execution_count": 2,
   "metadata": {},
   "outputs": [],
   "source": [
    "def write_csv(data,fname):\n",
    "    # Write data to CSV\n",
    "    with open(fname+\".csv\", \"w\", newline=\",\") as f:\n",
    "        writer = csv.writer(f)\n",
    "        writer.writerows(data)\n",
    "    return writer\n",
    "\n",
    "def read_csv(fname):\n",
    "    # Read data from CSV\n",
    "    with open(fname+\".csv\", \"r\") as f:\n",
    "        reader = csv.reader(f)\n",
    "        data = [row for row in reader]\n",
    "    return data\n",
    "\n",
    "def write_text_file(data,fname):\n",
    "    with open(fname+'.txt', 'w') as output:\n",
    "        for row in data:\n",
    "            output.write(row)\n",
    "            output.write(\"\\n\")"
   ]
  },
  {
   "cell_type": "markdown",
   "metadata": {},
   "source": [
    "# Create training data set for labeling"
   ]
  },
  {
   "cell_type": "code",
   "execution_count": 3,
   "metadata": {},
   "outputs": [],
   "source": [
    "# Read in MIDAS people data\n",
    "MIDAS_data = pd.read_csv(\"data/midas_network_profs_to_aa.csv\")\n",
    "MIDAS_people = MIDAS_data['midas_name']\n",
    "MIDAS_IDs = MIDAS_data['aa_id']"
   ]
  },
  {
   "cell_type": "code",
   "execution_count": 4,
   "metadata": {},
   "outputs": [],
   "source": [
    "# Get DOIs of papers from MIDAS people\n",
    "journal_articles = pd.read_csv(\"data/Journal_Articles.csv\")"
   ]
  },
  {
   "cell_type": "code",
   "execution_count": 5,
   "metadata": {},
   "outputs": [],
   "source": [
    "# Get DOIs for all MIDAS people\n",
    "MIDAS_DOIs = np.array([])\n",
    "\n",
    "for person_id in MIDAS_IDs:\n",
    "    doi_list = journal_articles.loc[journal_articles['PersonId'] == person_id, 'DOI'].tolist()\n",
    "    MIDAS_DOIs = np.concatenate((MIDAS_DOIs,doi_list))"
   ]
  },
  {
   "cell_type": "code",
   "execution_count": 6,
   "metadata": {},
   "outputs": [],
   "source": [
    "def clean_abstract(abstract):\n",
    "    if not isinstance(abstract, str):\n",
    "        return abstract\n",
    "    \n",
    "    # Remove HTML tags\n",
    "    abstract = re.sub(r'<.*?>', '', abstract)\n",
    "    \n",
    "    # Remove leading \"abstract:\" or \"Abstract:\"\n",
    "    abstract = re.sub(r'^(abstract:|Abstract:)\\s*', '', abstract)\n",
    "    \n",
    "    return abstract\n",
    "\n",
    "def clean_title(title):\n",
    "    if not isinstance(title, str):\n",
    "        return title\n",
    "    \n",
    "    # Remove HTML tags\n",
    "    title = re.sub(r'<.*?>', '', title)\n",
    "    \n",
    "    # Remove leading \"abstract:\" or \"Abstract:\"\n",
    "    title = re.sub(r'^(title:|Title:)\\s*', '', title)\n",
    "    \n",
    "    return title\n"
   ]
  },
  {
   "cell_type": "code",
   "execution_count": 7,
   "metadata": {},
   "outputs": [],
   "source": [
    "# Create list of titles and abstracts for all MIDAS people publications\n",
    "\n",
    "# Load JSON directory file\n",
    "with open('data/doi_index.json', 'r') as f:\n",
    "    linked_directory = json.load(f)"
   ]
  },
  {
   "cell_type": "code",
   "execution_count": 8,
   "metadata": {},
   "outputs": [],
   "source": [
    "combined_title_abstract_MIDAS = []\n",
    "for DOI in MIDAS_DOIs:\n",
    "    DOI = DOI.lower()\n",
    "\n",
    "    # Open the appropriate abstract file for this DOI\n",
    "    try:\n",
    "        abstract = clean_abstract(linked_directory[DOI]['abstract'])\n",
    "        title = clean_title(linked_directory[DOI]['title'])\n",
    "        combined_title_abstract_MIDAS.append(title + \" \" + abstract)\n",
    "    except:\n",
    "        continue"
   ]
  },
  {
   "cell_type": "code",
   "execution_count": null,
   "metadata": {},
   "outputs": [],
   "source": [
    "# Create list of titles and abstracts from random people (basically guaranteed negatives for training data)\n",
    "num_samples = 5000\n",
    "\n",
    "samples = []\n",
    "count = 0\n",
    "for doi, entry in linked_directory.items():\n",
    "    if 'abstract' in entry and 'title' in entry:\n",
    "        abstract = clean_abstract(entry['abstract'])\n",
    "        title = clean_title(entry['title'])\n",
    "\n",
    "        samples.append(title + \" \" + abstract)\n",
    "        count += 1\n",
    "    if count > num_samples:\n",
    "        break"
   ]
  },
  {
   "cell_type": "markdown",
   "metadata": {},
   "source": [
    "## Generate training data set"
   ]
  },
  {
   "cell_type": "code",
   "execution_count": 10,
   "metadata": {},
   "outputs": [],
   "source": [
    "num_MIDAS_papers = 250\n",
    "num_non_MIDAS_papers = 250\n",
    "\n",
    "potential_positives = np.random.choice(combined_title_abstract_MIDAS, num_MIDAS_papers, replace=False)\n",
    "potential_negatives = np.random.choice(samples, num_non_MIDAS_papers, replace=False)\n",
    "\n",
    "total_data = np.concatenate((potential_positives,potential_negatives))\n",
    "\n",
    "# save to .txt file\n",
    "write_text_file(total_data,'output/abstracts_to_label_set2')\n"
   ]
  }
 ],
 "metadata": {
  "kernelspec": {
   "display_name": "Python 3",
   "language": "python",
   "name": "python3"
  },
  "language_info": {
   "codemirror_mode": {
    "name": "ipython",
    "version": 3
   },
   "file_extension": ".py",
   "mimetype": "text/x-python",
   "name": "python",
   "nbconvert_exporter": "python",
   "pygments_lexer": "ipython3",
   "version": "3.9.6"
  }
 },
 "nbformat": 4,
 "nbformat_minor": 2
}
